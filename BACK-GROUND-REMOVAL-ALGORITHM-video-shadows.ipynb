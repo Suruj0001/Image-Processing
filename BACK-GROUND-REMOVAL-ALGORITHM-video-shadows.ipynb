{
 "cells": [
  {
   "cell_type": "markdown",
   "id": "6dea5699",
   "metadata": {},
   "source": [
    "Technically you ned extract the moving"
   ]
  },
  {
   "cell_type": "code",
   "execution_count": 30,
   "id": "af334224",
   "metadata": {},
   "outputs": [],
   "source": [
    "import numpy as np\n",
    "import cv2 as cv"
   ]
  },
  {
   "cell_type": "code",
   "execution_count": 31,
   "id": "7ffb472f",
   "metadata": {},
   "outputs": [],
   "source": [
    "cap = cv.VideoCapture(r\"C:\\Users\\suruj\\PYTHON-IMAGE-PROCESSING\\video-processing-videoCapture\\f22-re.mp4\")"
   ]
  },
  {
   "cell_type": "code",
   "execution_count": 32,
   "id": "3b4bb386",
   "metadata": {},
   "outputs": [],
   "source": [
    "#old-algo = cv.bgsegm.createBackgroundSubstractorMOG()\n",
    "algo1 = cv.createBackgroundSubtractorMOG2(detectShadows=True) #algo1\n",
    "algo2 = cv.createBackgroundSubtractorKNN(detectShadows=True)  #algo2"
   ]
  },
  {
   "cell_type": "code",
   "execution_count": 33,
   "id": "b4256e88",
   "metadata": {},
   "outputs": [],
   "source": [
    "while True:\n",
    "    ret,frame = cap.read()\n",
    "    frame = cv.resize(frame,(800,400))\n",
    "    res1 = algo1.apply(frame)\n",
    "    res2 = algo2.apply(frame)\n",
    "    \n",
    "    cv.imshow(\"Original\", frame)\n",
    "    cv.imshow(\"res1\",res1)\n",
    "    cv.imshow(\"res2\",res2)\n",
    "    \n",
    "    k = cv.waitKey(30)\n",
    "    if k == 'q' or k == 27:\n",
    "        break\n",
    "        \n",
    "cap.release()\n",
    "cv.destroyAllWindows()"
   ]
  },
  {
   "cell_type": "code",
   "execution_count": null,
   "id": "337bf438",
   "metadata": {},
   "outputs": [],
   "source": [
    "KNN -- K NEAREST NEIGHBOURHOOD\n",
    "algo1 = cv.createBackgroundSubtractorMOG2() #algo1\n",
    "algo2 = cv.createBackgroundSubtractorKNN()  #algo2\n",
    "for more precise detectShadows"
   ]
  }
 ],
 "metadata": {
  "kernelspec": {
   "display_name": "Python 3 (ipykernel)",
   "language": "python",
   "name": "python3"
  },
  "language_info": {
   "codemirror_mode": {
    "name": "ipython",
    "version": 3
   },
   "file_extension": ".py",
   "mimetype": "text/x-python",
   "name": "python",
   "nbconvert_exporter": "python",
   "pygments_lexer": "ipython3",
   "version": "3.9.13"
  }
 },
 "nbformat": 4,
 "nbformat_minor": 5
}
