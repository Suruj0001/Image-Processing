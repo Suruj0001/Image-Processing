{
 "cells": [
  {
   "cell_type": "code",
   "execution_count": 1,
   "id": "0e99f462",
   "metadata": {},
   "outputs": [],
   "source": [
    "import cv2"
   ]
  },
  {
   "cell_type": "code",
   "execution_count": 2,
   "id": "26b484da",
   "metadata": {},
   "outputs": [],
   "source": [
    "camera = \"http://192.168.72.191:8080/video\""
   ]
  },
  {
   "cell_type": "code",
   "execution_count": 3,
   "id": "2ea4b83a",
   "metadata": {},
   "outputs": [],
   "source": [
    "cap = cv2.VideoCapture(0)"
   ]
  },
  {
   "cell_type": "code",
   "execution_count": 4,
   "id": "cf148c4a",
   "metadata": {},
   "outputs": [
    {
     "data": {
      "text/plain": [
       "True"
      ]
     },
     "execution_count": 4,
     "metadata": {},
     "output_type": "execute_result"
    }
   ],
   "source": [
    "cap.open(camera)"
   ]
  },
  {
   "cell_type": "code",
   "execution_count": 5,
   "id": "8c98585d",
   "metadata": {},
   "outputs": [
    {
     "name": "stdout",
     "output_type": "stream",
     "text": [
      "check=== True\n"
     ]
    }
   ],
   "source": [
    "print(\"check===\" , cap.isOpened())"
   ]
  },
  {
   "cell_type": "code",
   "execution_count": 6,
   "id": "9190676b",
   "metadata": {},
   "outputs": [],
   "source": [
    "fourcc = cv2.VideoWriter_fourcc(*\"XVID\")"
   ]
  },
  {
   "cell_type": "code",
   "execution_count": 7,
   "id": "c7128c16",
   "metadata": {},
   "outputs": [],
   "source": [
    "output = cv2.VideoWriter(r\"C:\\\\Users\\\\suruj\\PYTHON-IMAGE-PROCESSING\\\\web-cam-project\\\\videos\\\\testing.avi\" , fourcc , 20.0 , (1920 , 1080)) # use high resolution if we use fourcc , 20.0 , (640 , 720) the video will not show as output or hget saved"
   ]
  },
  {
   "cell_type": "code",
   "execution_count": 8,
   "id": "563d9578",
   "metadata": {},
   "outputs": [],
   "source": [
    "while(cap.isOpened()):\n",
    "    ret , frame = cap.read()\n",
    "    if ret == True:\n",
    "        #frame = cv2.resize(frame , (700 , 700)) # for camera use frame size of high resolution (1920 , 1080)\n",
    "        cv2.imshow(\"color-frame\" , frame)\n",
    "        output.write(frame)\n",
    "        if cv2.waitKey(1) == ord(\"q\"):\n",
    "            break"
   ]
  },
  {
   "cell_type": "code",
   "execution_count": 9,
   "id": "84432270",
   "metadata": {},
   "outputs": [],
   "source": [
    "cap.release()\n",
    "output.release()\n",
    "cv2.destroyAllWindows()"
   ]
  },
  {
   "cell_type": "code",
   "execution_count": 143,
   "id": "bb1e3f5b",
   "metadata": {},
   "outputs": [],
   "source": []
  },
  {
   "cell_type": "code",
   "execution_count": 144,
   "id": "e500c9be",
   "metadata": {},
   "outputs": [],
   "source": []
  },
  {
   "cell_type": "code",
   "execution_count": null,
   "id": "99fffacf",
   "metadata": {},
   "outputs": [],
   "source": []
  }
 ],
 "metadata": {
  "kernelspec": {
   "display_name": "Python 3 (ipykernel)",
   "language": "python",
   "name": "python3"
  },
  "language_info": {
   "codemirror_mode": {
    "name": "ipython",
    "version": 3
   },
   "file_extension": ".py",
   "mimetype": "text/x-python",
   "name": "python",
   "nbconvert_exporter": "python",
   "pygments_lexer": "ipython3",
   "version": "3.10.7"
  },
  "vscode": {
   "interpreter": {
    "hash": "0b04c95545ab332a2fe9cf5995c66f301512b2ab364aaeb0128f85a1414c1657"
   }
  }
 },
 "nbformat": 4,
 "nbformat_minor": 5
}
