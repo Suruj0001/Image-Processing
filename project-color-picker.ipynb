{
 "cells": [
  {
   "cell_type": "code",
   "execution_count": 1,
   "id": "be14672b",
   "metadata": {},
   "outputs": [],
   "source": [
    "#create a function which help to find coordinates of any pixel and its color"
   ]
  },
  {
   "cell_type": "code",
   "execution_count": 1,
   "id": "0080ec10",
   "metadata": {},
   "outputs": [],
   "source": [
    "import cv2\n",
    "import numpy as np"
   ]
  },
  {
   "cell_type": "code",
   "execution_count": 2,
   "id": "313eb135",
   "metadata": {},
   "outputs": [
    {
     "name": "stdout",
     "output_type": "stream",
     "text": [
      "54 ,  143\n",
      "193 ,  331\n"
     ]
    }
   ],
   "source": [
    "def mouse_event(event,x,y,flags,param):\n",
    "    #print(\"event==\",event)\n",
    "    #print(\"x==\",x)\n",
    "    #print(\"y==\",y)\n",
    "    #print(\"flg==\",flags)\n",
    "    #print(\"param==\",param)\n",
    "    font = cv2.FONT_HERSHEY_PLAIN\n",
    "    if event == cv2.EVENT_LBUTTONDOWN:  #left click to get the coordinate of pixel\n",
    "        print(x,', ' , y)\n",
    "\n",
    "        cord = \". \"+str(x) + ' , ' + str(y)\n",
    "        cv2.putText(img, cord, (x,y), font, 1, (155,125,100),2)\n",
    "        #cv2.imshow('image', img)\n",
    "        \n",
    "    if event == cv2.EVENT_RBUTTONDOWN:  # right click to get color channel of the image\n",
    "        b = img[y,x,0]     # for blue channel is 0\n",
    "        g = img[y,x,1]     #for green channel is 1\n",
    "        r = img[y,x,2]     # for red channel is 2\n",
    "        \n",
    "        color_bgr = \". \"+str(b) + ' , ' + str(g)+ ', ' + str(r)\n",
    "        cv2.putText(img, color_bgr, (x,y), font, 1, (152,255,130),2)\n",
    "        #cv2.imshow('image', img)\n",
    "        \n",
    "cv2.namedWindow(winname = \"res\")\n",
    "\n",
    "#img = np.zeros((512,512,3), np.uint8)\n",
    "img = cv2.imread(r\"C:\\Users\\suruj\\PYTHON-IMAGE-PROCESSING\\PROJECT 1.  Converting an Image to gray scale\\pearl.jpg\")\n",
    "img = cv2.resize(img, (500, 500))  # height , width\n",
    "cv2.setMouseCallback(\"res\",mouse_event)\n",
    "\n",
    "while True:\n",
    "    cv2.imshow(\"res\",img)\n",
    "    if cv2.waitKey(1) == ord(\"q\"):\n",
    "        break\n",
    "        \n",
    "cv2.destroyAllWindows()"
   ]
  },
  {
   "cell_type": "code",
   "execution_count": null,
   "id": "6f163e84",
   "metadata": {},
   "outputs": [],
   "source": []
  },
  {
   "cell_type": "code",
   "execution_count": null,
   "id": "013ed8f1",
   "metadata": {},
   "outputs": [],
   "source": []
  }
 ],
 "metadata": {
  "kernelspec": {
   "display_name": "Python 3 (ipykernel)",
   "language": "python",
   "name": "python3"
  },
  "language_info": {
   "codemirror_mode": {
    "name": "ipython",
    "version": 3
   },
   "file_extension": ".py",
   "mimetype": "text/x-python",
   "name": "python",
   "nbconvert_exporter": "python",
   "pygments_lexer": "ipython3",
   "version": "3.9.13"
  }
 },
 "nbformat": 4,
 "nbformat_minor": 5
}
