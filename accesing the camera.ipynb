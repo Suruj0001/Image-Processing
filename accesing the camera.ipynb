{
 "cells": [
  {
   "cell_type": "code",
   "execution_count": 9,
   "id": "cf810438",
   "metadata": {},
   "outputs": [],
   "source": [
    "import cv2"
   ]
  },
  {
   "cell_type": "code",
   "execution_count": 10,
   "id": "dae203f9",
   "metadata": {},
   "outputs": [],
   "source": [
    "cap = cv2.VideoCapture(0 , cv2.CAP_DSHOW)  # 0  for the inbuilt camera #1 for any external camera"
   ]
  },
  {
   "cell_type": "code",
   "execution_count": 11,
   "id": "a8076ff5",
   "metadata": {},
   "outputs": [
    {
     "name": "stdout",
     "output_type": "stream",
     "text": [
      "cap < cv2.VideoCapture 00000229C75FD510>\n"
     ]
    }
   ],
   "source": [
    "print(\"cap\", cap)"
   ]
  },
  {
   "cell_type": "code",
   "execution_count": 12,
   "id": "aa549a75",
   "metadata": {},
   "outputs": [],
   "source": [
    "fourcc = cv2.VideoWriter_fourcc(*\"XVID\")"
   ]
  },
  {
   "cell_type": "code",
   "execution_count": 13,
   "id": "75184f3b",
   "metadata": {},
   "outputs": [],
   "source": [
    "output = cv2.VideoWriter(r\"C:\\Users\\suruj\\PYTHON-IMAGE-PROCESSING\\video-processing-videoCapture()\\output-vides\\output.avi\" , fourcc , 20.0 , (640 , 480) ) # we have to put 0 for gray image and by that we also have to change the cv2.imshow(gray)"
   ]
  },
  {
   "cell_type": "code",
   "execution_count": 14,
   "id": "ec9489e9",
   "metadata": {},
   "outputs": [],
   "source": [
    "while cap.isOpened():\n",
    "    ret , frame = cap.read()\n",
    "    if ret == True:\n",
    "        #frame = cv2.resize(frame , (900 , 700))\n",
    "        gray = cv2.cvtColor(frame , cv2.COLOR_BGR2GRAY)\n",
    "        #frame = cv2.flip(frame , 0)\n",
    "        cv2.imshow(\"gray\" , gray)\n",
    "        cv2.imshow(\"frame\" , frame)\n",
    "        output.write(frame) # it will show or save gray image\n",
    "        if cv2.waitKey(1) == ord(\"q\"):# 1 means something dynamic  and 0 means something static like image\n",
    "            break"
   ]
  },
  {
   "cell_type": "code",
   "execution_count": 15,
   "id": "1ab1b473",
   "metadata": {},
   "outputs": [],
   "source": [
    "cap.release()"
   ]
  },
  {
   "cell_type": "code",
   "execution_count": 16,
   "id": "7eb951cc",
   "metadata": {},
   "outputs": [],
   "source": [
    "cv2.destroyAllWindows()"
   ]
  },
  {
   "cell_type": "code",
   "execution_count": null,
   "id": "aec1ac46",
   "metadata": {},
   "outputs": [],
   "source": []
  }
 ],
 "metadata": {
  "kernelspec": {
   "display_name": "Python 3.10.7 64-bit",
   "language": "python",
   "name": "python3"
  },
  "language_info": {
   "codemirror_mode": {
    "name": "ipython",
    "version": 3
   },
   "file_extension": ".py",
   "mimetype": "text/x-python",
   "name": "python",
   "nbconvert_exporter": "python",
   "pygments_lexer": "ipython3",
   "version": "3.10.7"
  },
  "vscode": {
   "interpreter": {
    "hash": "0b04c95545ab332a2fe9cf5995c66f301512b2ab364aaeb0128f85a1414c1657"
   }
  }
 },
 "nbformat": 4,
 "nbformat_minor": 5
}
