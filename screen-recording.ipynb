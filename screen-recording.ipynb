{
 "cells": [
  {
   "cell_type": "code",
   "execution_count": 10,
   "id": "c743cb33",
   "metadata": {},
   "outputs": [
    {
     "name": "stdout",
     "output_type": "stream",
     "text": [
      "C:\\Users\\suruj\\PYTHON-IMAGE-PROCESSING\\video-processing-videoCapture\\testing-lch-tejas-movement.mp4\n"
     ]
    }
   ],
   "source": [
    "import cv2 as c\n",
    "import numpy as np\n",
    "import pyautogui as p\n",
    "\n",
    "#Python pyautogui library is an automation library that allows mouse and keyboard control. Or we can say that it facilitates us to automate the movement of the mouse and keyboard to establish the interaction with the other application using the Python script\n",
    "\n",
    "rs = p.size()  #create resolution \n",
    "\n",
    "fn = input(r\"\") #file name in which we are going store recording\n",
    "\n"
   ]
  },
  {
   "cell_type": "code",
   "execution_count": 11,
   "id": "e8f2819a",
   "metadata": {},
   "outputs": [],
   "source": [
    "fps = 60.0 #FPS is a unit that is used to measure frame rate or display device performance. It stands for Frames Per Second\n",
    "\n",
    "fourcc = c.VideoWriter_fourcc(*'XVID')\n",
    "output = c.VideoWriter(fn,fourcc,fps,rs)\n",
    "\n",
    "#creating recording module\n",
    "c.namedWindow(\"LiveRecording\" , c.WINDOW_NORMAL)\n",
    "c.resizeWindow(\"LiveRecording\" , (600,400))\n",
    "              \n",
    "while True:\n",
    "    img = p.screenshot()\n",
    "    f = np.array(img)\n",
    "    f = c.cvtColor(f,c.COLOR_BGR2RGB)\n",
    "    output.write(f)\n",
    "    c.imshow(\"Live-Recording\" , f)\n",
    "    if c.waitKey(1) == ord(\"q\"):\n",
    "        break;\n",
    "              \n",
    "output.release()\n",
    "c.destroyAllWindows()"
   ]
  },
  {
   "cell_type": "raw",
   "id": "5d5b3b45",
   "metadata": {},
   "source": []
  },
  {
   "cell_type": "code",
   "execution_count": 4,
   "id": "54b1590e",
   "metadata": {},
   "outputs": [],
   "source": []
  },
  {
   "cell_type": "code",
   "execution_count": null,
   "id": "38cd4863",
   "metadata": {},
   "outputs": [],
   "source": []
  },
  {
   "cell_type": "code",
   "execution_count": 6,
   "id": "369b0195",
   "metadata": {},
   "outputs": [],
   "source": []
  },
  {
   "cell_type": "code",
   "execution_count": 7,
   "id": "6fbdb4a8",
   "metadata": {},
   "outputs": [],
   "source": []
  },
  {
   "cell_type": "code",
   "execution_count": null,
   "id": "1edf9dcd",
   "metadata": {},
   "outputs": [],
   "source": []
  },
  {
   "cell_type": "code",
   "execution_count": null,
   "id": "b53b5e44",
   "metadata": {},
   "outputs": [],
   "source": []
  },
  {
   "cell_type": "code",
   "execution_count": 9,
   "id": "17e655cf",
   "metadata": {},
   "outputs": [],
   "source": []
  },
  {
   "cell_type": "code",
   "execution_count": null,
   "id": "c28f7aef",
   "metadata": {},
   "outputs": [],
   "source": []
  }
 ],
 "metadata": {
  "kernelspec": {
   "display_name": "Python 3 (ipykernel)",
   "language": "python",
   "name": "python3"
  },
  "language_info": {
   "codemirror_mode": {
    "name": "ipython",
    "version": 3
   },
   "file_extension": ".py",
   "mimetype": "text/x-python",
   "name": "python",
   "nbconvert_exporter": "python",
   "pygments_lexer": "ipython3",
   "version": "3.9.13"
  }
 },
 "nbformat": 4,
 "nbformat_minor": 5
}
