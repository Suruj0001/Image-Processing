{
 "cells": [
  {
   "cell_type": "code",
   "execution_count": 24,
   "id": "dc9dcc6f",
   "metadata": {},
   "outputs": [],
   "source": [
    "import cv2\n",
    "import numpy as np"
   ]
  },
  {
   "cell_type": "code",
   "execution_count": 25,
   "id": "d900c702",
   "metadata": {},
   "outputs": [],
   "source": [
    "img = np.zeros((300,512,3), np.uint8)\n",
    "cv2.namedWindow(\"Color Picker\")\n",
    "\n",
    "def cross(x):\n",
    "    pass\n",
    "\n",
    "\n",
    "# create switch\n",
    "s1 = \"0:OFF\\n1:ON\" # 0 means off 1 means on\n",
    "cv2.createTrackbar(s1, \"Color Picker\",0,1,cross) # 0 1 are parameters cross means no parametrs was given i.e the button is neither on or off\n",
    "\n",
    "\n",
    "#creating for rgb\n",
    "\n",
    "#creating Trackbar For Adjusting Colors\n",
    "cv2.createTrackbar(\"R\", \"Color Picker\", 0, 255, cross)  # 0 255 range\n",
    "cv2.createTrackbar(\"G\", \"Color Picker\", 0, 255, cross)\n",
    "cv2.createTrackbar(\"B\", \"Color Picker\", 0, 255, cross)\n",
    "\n",
    "\n",
    "while True:\n",
    "    cv2.imshow(\"Color Picker\" , img)\n",
    "    k = cv2.waitKey(1)\n",
    "    if k == ord(\"q\"): \n",
    "        break\n",
    "        \n",
    "        \n",
    "#now get trackbar pos\n",
    "    s = cv2.getTrackbarPos(s1,  \"Color Picker\")\n",
    "    r = cv2.getTrackbarPos(\"R\" , \"Color Picker\")\n",
    "    g = cv2.getTrackbarPos(\"G\" , \"Color Picker\")\n",
    "    b = cv2.getTrackbarPos(\"B\" , \"Color Picker\")\n",
    "    \n",
    "    if s1 == 0:\n",
    "        img[:] = 0  # making all pixels 0\n",
    "    else:\n",
    "        img[:] = [r,g,b]\n",
    "\n",
    "        \n",
    "cv2.destroyAllWindows()"
   ]
  },
  {
   "cell_type": "code",
   "execution_count": null,
   "id": "7d8cb04d",
   "metadata": {},
   "outputs": [],
   "source": []
  }
 ],
 "metadata": {
  "kernelspec": {
   "display_name": "Python 3 (ipykernel)",
   "language": "python",
   "name": "python3"
  },
  "language_info": {
   "codemirror_mode": {
    "name": "ipython",
    "version": 3
   },
   "file_extension": ".py",
   "mimetype": "text/x-python",
   "name": "python",
   "nbconvert_exporter": "python",
   "pygments_lexer": "ipython3",
   "version": "3.9.13"
  }
 },
 "nbformat": 4,
 "nbformat_minor": 5
}
