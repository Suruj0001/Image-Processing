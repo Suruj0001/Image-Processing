{
 "cells": [
  {
   "cell_type": "code",
   "execution_count": 10,
   "id": "9606a8ea",
   "metadata": {},
   "outputs": [
    {
     "name": "stdout",
     "output_type": "stream",
     "text": [
      "check=== False\n"
     ]
    }
   ],
   "source": [
    "import cv2"
   ]
  },
  {
   "cell_type": "code",
   "execution_count": 1,
   "id": "b7f47859",
   "metadata": {},
   "outputs": [],
   "source": [
    "import pafy #pafy is scientific library to download YouTube content and retrieve metadata."
   ]
  },
  {
   "cell_type": "code",
   "execution_count": 2,
   "id": "9fba1534",
   "metadata": {},
   "outputs": [],
   "source": [
    "url = \"https://www.youtube.com/watch?v=SnbMg2PDu4o\" #     https://www.youtube.com/watch?v=SnbMg2PDu4o -- tejas-video"
   ]
  },
  {
   "cell_type": "code",
   "execution_count": 4,
   "id": "a8b4c16b",
   "metadata": {},
   "outputs": [],
   "source": [
    "video = pafy.new(url)"
   ]
  },
  {
   "cell_type": "code",
   "execution_count": null,
   "id": "2bb9b001",
   "metadata": {},
   "outputs": [],
   "source": [
    "value = video.videostreams # getting video streams of the video"
   ]
  },
  {
   "cell_type": "code",
   "execution_count": null,
   "id": "cac3b721",
   "metadata": {},
   "outputs": [],
   "source": [
    "data = value.getbest(preftype = \"mp4\")"
   ]
  },
  {
   "cell_type": "code",
   "execution_count": 11,
   "id": "07898077",
   "metadata": {},
   "outputs": [],
   "source": [
    "print(\"Video Streams : \" + str(value))"
   ]
  },
  {
   "cell_type": "code",
   "execution_count": 3,
   "id": "a47ec0bc",
   "metadata": {},
   "outputs": [],
   "source": [
    "cap = cv2.VideoCapture(0 , cv2.CAP_DSHOW)"
   ]
  },
  {
   "cell_type": "code",
   "execution_count": 2,
   "id": "7b58e7e4",
   "metadata": {},
   "outputs": [],
   "source": [
    "cap.open(data.url)"
   ]
  },
  {
   "cell_type": "code",
   "execution_count": 3,
   "id": "e68a0314",
   "metadata": {},
   "outputs": [],
   "source": [
    "print(\"check===\" , cap.isOpened())"
   ]
  },
  {
   "cell_type": "code",
   "execution_count": 4,
   "id": "e8f5f56a",
   "metadata": {},
   "outputs": [],
   "source": [
    "while(cap.isOpened()):\n",
    "    ret , frame = cap.read() #read the image\n",
    "    if ret == True:\n",
    "        frame = cv2.resize(frame,(700,700))\n",
    "        gray = cv2.cvtColor(frame, (700,700))\n",
    "        cv2.imshow('color-frame' , frame)\n",
    "        cv2.imshow('gray',gray)\n",
    "        \n",
    "        if cv2.waitKey(1) == ord('q'):\n",
    "            break"
   ]
  },
  {
   "cell_type": "code",
   "execution_count": null,
   "id": "7bca4233",
   "metadata": {},
   "outputs": [],
   "source": [
    "--- # model tested -- had compiled but not shown in frame -- need to work on open cv rather than inbuilt library of python "
   ]
  },
  {
   "cell_type": "code",
   "execution_count": null,
   "id": "859f71e4",
   "metadata": {},
   "outputs": [],
   "source": []
  },
  {
   "cell_type": "code",
   "execution_count": null,
   "id": "99af6a30",
   "metadata": {},
   "outputs": [],
   "source": []
  },
  {
   "cell_type": "code",
   "execution_count": null,
   "id": "d46852fb",
   "metadata": {},
   "outputs": [],
   "source": []
  },
  {
   "cell_type": "code",
   "execution_count": null,
   "id": "11b73a71",
   "metadata": {},
   "outputs": [],
   "source": []
  },
  {
   "cell_type": "code",
   "execution_count": null,
   "id": "dfa31af3",
   "metadata": {},
   "outputs": [],
   "source": []
  },
  {
   "cell_type": "code",
   "execution_count": null,
   "id": "3103545a",
   "metadata": {},
   "outputs": [],
   "source": []
  },
  {
   "cell_type": "code",
   "execution_count": null,
   "id": "691d5220",
   "metadata": {},
   "outputs": [],
   "source": []
  },
  {
   "cell_type": "code",
   "execution_count": null,
   "id": "1358dffa",
   "metadata": {},
   "outputs": [],
   "source": []
  }
 ],
 "metadata": {
  "kernelspec": {
   "display_name": "Python 3 (ipykernel)",
   "language": "python",
   "name": "python3"
  },
  "language_info": {
   "codemirror_mode": {
    "name": "ipython",
    "version": 3
   },
   "file_extension": ".py",
   "mimetype": "text/x-python",
   "name": "python",
   "nbconvert_exporter": "python",
   "pygments_lexer": "ipython3",
   "version": "3.9.13"
  }
 },
 "nbformat": 4,
 "nbformat_minor": 5
}
