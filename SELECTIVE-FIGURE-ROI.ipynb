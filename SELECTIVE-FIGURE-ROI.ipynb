{
 "cells": [
  {
   "cell_type": "markdown",
   "id": "eb4dff91",
   "metadata": {},
   "source": [
    "ROI REGION OF INTEREST \n",
    "TAKING SPECIFIC OBJECT SPACE FROM AN OBJECT\n",
    "\n",
    "BACKGROUND SUBSTRACTION\n",
    "\n",
    "FROM SIMPLE IMAGE JUST REMOVE BACKGROUND-BACK "
   ]
  },
  {
   "cell_type": "code",
   "execution_count": 1,
   "id": "3adc7df5",
   "metadata": {},
   "outputs": [],
   "source": [
    "#Extracting Image object from the image and place on another image\n",
    "#Random figure ROI or Background Substraction"
   ]
  },
  {
   "cell_type": "code",
   "execution_count": 71,
   "id": "4a18cb82",
   "metadata": {},
   "outputs": [],
   "source": [
    "import cv2\n",
    "import numpy as np"
   ]
  },
  {
   "cell_type": "code",
   "execution_count": 72,
   "id": "69a47916",
   "metadata": {},
   "outputs": [],
   "source": [
    "#Load two Images\n",
    "img1 = cv2.imread(r\"C:\\Users\\suruj\\PYTHON-IMAGE-PROCESSING\\demo\\pht\\thor.jpg\")\n",
    "img2 = cv2.imread(r\"C:\\Users\\suruj\\PYTHON-IMAGE-PROCESSING\\demo\\pht\\suruj.jpg\")"
   ]
  },
  {
   "cell_type": "code",
   "execution_count": 73,
   "id": "03e2650f",
   "metadata": {},
   "outputs": [],
   "source": [
    "img1 = cv2.resize(img1,(1024,650))\n",
    "img2 = cv2.resize(img2,(600,650))"
   ]
  },
  {
   "cell_type": "code",
   "execution_count": 74,
   "id": "7287d4cb",
   "metadata": {},
   "outputs": [
    {
     "name": "stdout",
     "output_type": "stream",
     "text": [
      "650 600 3\n"
     ]
    }
   ],
   "source": [
    "#I want to fix image 2 data into img1\n",
    "r,c,ch = img2.shape\n",
    "print(r,c,ch)  # see passing -particular value of img2 to rch\n",
    "roi = img1[0:r,0:c]"
   ]
  },
  {
   "cell_type": "code",
   "execution_count": 75,
   "id": "5691c991",
   "metadata": {},
   "outputs": [],
   "source": [
    "#Now creating mask for img2\n",
    "img_gry = cv2.cvtColor(img2,cv2.COLOR_BGR2GRAY)\n",
    "\n",
    "#create mask using threshold \n",
    "_, mask = cv2.threshold(img_gry, 90, 255, cv2.THRESH_BINARY) \n",
    "# check the value for 80/.. itcan be  another value depending on scenes"
   ]
  },
  {
   "cell_type": "code",
   "execution_count": 76,
   "id": "8d9afaec",
   "metadata": {},
   "outputs": [],
   "source": [
    "#remove bg\n",
    "mask_inv = cv2.bitwise_not(mask)"
   ]
  },
  {
   "cell_type": "code",
   "execution_count": 77,
   "id": "4bb8c211",
   "metadata": {},
   "outputs": [],
   "source": [
    "#put mask into roi\n",
    "img1_bg = cv2.bitwise_and(roi,roi,mask = mask_inv)"
   ]
  },
  {
   "cell_type": "code",
   "execution_count": 78,
   "id": "584a7213",
   "metadata": {},
   "outputs": [],
   "source": [
    "# #create mask using threshold\n",
    "# _, mask = cv2.threshold(img_gry, 50, 255, cv2.THRESH_BINARY)"
   ]
  },
  {
   "cell_type": "code",
   "execution_count": 79,
   "id": "758822ff",
   "metadata": {},
   "outputs": [],
   "source": [
    "# Take only region of figure from original image\n",
    "img2_fg = cv2.bitwise_and(img2,img2,mask = mask)"
   ]
  },
  {
   "cell_type": "code",
   "execution_count": 80,
   "id": "87b284a6",
   "metadata": {},
   "outputs": [],
   "source": [
    "#PUT img in ROI and modify the main image\n",
    "res = cv2.add(img1_bg,img2_fg)"
   ]
  },
  {
   "cell_type": "code",
   "execution_count": 81,
   "id": "a5fb5fdf",
   "metadata": {},
   "outputs": [],
   "source": [
    "# cv2.imshow(\"Thor\",img1)\n",
    "# cv2.imshow(\"Suruj\", img2)\n",
    "# cv2.imshow(\"roi===\",roi)\n",
    "cv2.imshow(\"Step -1 gry==\", img_gry)\n",
    "cv2.imshow(\"Step -2 MASK===\",mask)\n",
    "cv2.imshow(\"Step -3 MASK_inv\",mask_inv)\n",
    "cv2.imshow(\"Step -4 MASK_bg\",img1_bg)\n",
    "cv2.imshow(\"Step -5 MASK fg\",img2_fg)\n",
    "cv2.imshow(\"Step -6 RES\", res)\n",
    "\n",
    "\n",
    "cv2.waitKey(0)\n",
    "cv2.destroyAllWindows()"
   ]
  },
  {
   "cell_type": "code",
   "execution_count": 83,
   "id": "080d7d5e",
   "metadata": {},
   "outputs": [],
   "source": [
    "final = img1\n",
    "\n",
    "final[0:r,0:c] = res  #final output\n",
    "cv2.imshow(\"Step 7 == Final\", final)\n",
    "cv2.waitKey(0)\n",
    "cv2.destroyAllWindows()"
   ]
  },
  {
   "cell_type": "code",
   "execution_count": null,
   "id": "5f373a07",
   "metadata": {},
   "outputs": [],
   "source": [
    "## for good result for thresholding alwayas choose  BLACK-BACKGROUND"
   ]
  }
 ],
 "metadata": {
  "kernelspec": {
   "display_name": "Python 3 (ipykernel)",
   "language": "python",
   "name": "python3"
  },
  "language_info": {
   "codemirror_mode": {
    "name": "ipython",
    "version": 3
   },
   "file_extension": ".py",
   "mimetype": "text/x-python",
   "name": "python",
   "nbconvert_exporter": "python",
   "pygments_lexer": "ipython3",
   "version": "3.9.13"
  }
 },
 "nbformat": 4,
 "nbformat_minor": 5
}
