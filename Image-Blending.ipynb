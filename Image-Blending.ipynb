{
 "cells": [
  {
   "cell_type": "markdown",
   "id": "afa27afb",
   "metadata": {},
   "source": [
    "# Image Blending with open cv\n",
    "here we use two important functions cv2.add() , cv2.addWeight\n",
    "Blending means addition of two images\n",
    "If You want to blend two images \n",
    "if you want to blend two images then both should have same size"
   ]
  },
  {
   "cell_type": "code",
   "execution_count": 9,
   "id": "d6b0a669",
   "metadata": {},
   "outputs": [],
   "source": [
    "import cv2\n",
    "import numpy as np"
   ]
  },
  {
   "cell_type": "code",
   "execution_count": 10,
   "id": "ae9d14da",
   "metadata": {},
   "outputs": [],
   "source": [
    "img1 = cv2.imread(r\"C:\\Users\\suruj\\PYTHON-IMAGE-PROCESSING\\demo\\pht\\poster2.jpg\")\n",
    "img1 = cv2.resize(img1, (500,500))\n",
    "img2 = cv2.imread(r\"C:\\Users\\suruj\\PYTHON-IMAGE-PROCESSING\\demo\\pht\\iron1.jpg\")\n",
    "img2 = cv2.resize(img2, (500,500))"
   ]
  },
  {
   "cell_type": "code",
   "execution_count": 21,
   "id": "db05a25b",
   "metadata": {},
   "outputs": [],
   "source": [
    "cv2.imshow(\"poster1\",img1)\n",
    "cv2.imshow(\"poster2\" , img2)"
   ]
  },
  {
   "cell_type": "markdown",
   "id": "c551c4e3",
   "metadata": {},
   "source": [
    "Now Performing Blending --- "
   ]
  },
  {
   "cell_type": "code",
   "execution_count": 19,
   "id": "addcb4bd",
   "metadata": {},
   "outputs": [],
   "source": [
    "result = img2+img1\n",
    "cv2.imshow(\"result\",result)"
   ]
  },
  {
   "cell_type": "markdown",
   "id": "f5e72c17",
   "metadata": {},
   "source": [
    "Recommended to use cv2.add"
   ]
  },
  {
   "cell_type": "code",
   "execution_count": 23,
   "id": "5854015d",
   "metadata": {},
   "outputs": [],
   "source": [
    "result1 = cv2.add(img1,img2)\n",
    "cv2.imshow(\"result1==\",result1)"
   ]
  },
  {
   "cell_type": "markdown",
   "id": "8aa7836e",
   "metadata": {},
   "source": [
    "# Functions of OpenCV cv2.addWeighted(img1,wt1,img2,wt2,gama_val)"
   ]
  },
  {
   "cell_type": "code",
   "execution_count": 28,
   "id": "7fa7ed65",
   "metadata": {},
   "outputs": [],
   "source": [
    "#addWeigheted (img1,wt,img2,wt2,gama_val)\n",
    "result2 = cv2.addWeighted(img1,0.3,img2,0.7,0)\n",
    "cv2.imshow(\"result\",result2)"
   ]
  },
  {
   "cell_type": "code",
   "execution_count": 29,
   "id": "685447ba",
   "metadata": {},
   "outputs": [],
   "source": [
    "cv2.waitKey(0)\n",
    "cv2.destroyAllWindows()"
   ]
  }
 ],
 "metadata": {
  "kernelspec": {
   "display_name": "Python 3 (ipykernel)",
   "language": "python",
   "name": "python3"
  },
  "language_info": {
   "codemirror_mode": {
    "name": "ipython",
    "version": 3
   },
   "file_extension": ".py",
   "mimetype": "text/x-python",
   "name": "python",
   "nbconvert_exporter": "python",
   "pygments_lexer": "ipython3",
   "version": "3.9.13"
  }
 },
 "nbformat": 4,
 "nbformat_minor": 5
}
