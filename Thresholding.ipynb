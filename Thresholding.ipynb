{
 "cells": [
  {
   "cell_type": "markdown",
   "id": "fcf69547",
   "metadata": {},
   "source": [
    "# Thresholding\n",
    "#Thresholding is of 3 types -- Simple thresholding Adaptive thresholding\n",
    "#simple thresholding(img,pixel_thresh,_max_thresh_pixel,style)"
   ]
  },
  {
   "cell_type": "code",
   "execution_count": 5,
   "id": "b25ce986",
   "metadata": {},
   "outputs": [],
   "source": [
    "import cv2\n",
    "import numpy as np"
   ]
  },
  {
   "cell_type": "code",
   "execution_count": 6,
   "id": "cba83974",
   "metadata": {},
   "outputs": [],
   "source": [
    "img = cv2.imread(r\"C:\\Users\\suruj\\PYTHON-IMAGE-PROCESSING\\demo\\pht\\cars.jpg\",0)\n",
    "img = cv2.resize(img,(300,300))"
   ]
  },
  {
   "cell_type": "code",
   "execution_count": 7,
   "id": "5b87c8d0",
   "metadata": {},
   "outputs": [],
   "source": [
    "cv2.imshow(\"Original\",img)\n",
    "\n",
    "_, th1 = cv2.threshold(img, 50, 255, cv2.THRESH_BINARY)\n",
    "_, th2 = cv2.threshold(img, 50, 255, cv2.THRESH_BINARY_INV)\n",
    "_, th3 = cv2.threshold(img, 127,255, cv2.THRESH_TRUNC)\n",
    "_, th4 = cv2.threshold(img, 127,255, cv2.THRESH_TOZERO)\n",
    "_, th5 = cv2.threshold(imgm 127,255, cv2.THRESH_TOZED_INV)\n",
    "\n",
    "cv2.imshow(\"1 - THRESH_BINARY\", th1)\n",
    "cv2.imshow(\"2 - THRESH_BINARY\", th1)\n",
    "cv2.imshow(\"3 - THRESH_TRUNC\",  th3)\n",
    "cv2.imshow(\"4 - THRESH_TOZERO\", th4)\n",
    "cv2.imshow(\"5 - THRESH_TOZERO_INV\", th5)\n",
    "\n",
    "\n",
    "cv2.waitKey(0)\n",
    "cv2.destroyAllWindows()"
   ]
  },
  {
   "cell_type": "code",
   "execution_count": null,
   "id": "225c8d2d",
   "metadata": {},
   "outputs": [],
   "source": [
    "#use a gray image -- for proper concept"
   ]
  }
 ],
 "metadata": {
  "kernelspec": {
   "display_name": "Python 3 (ipykernel)",
   "language": "python",
   "name": "python3"
  },
  "language_info": {
   "codemirror_mode": {
    "name": "ipython",
    "version": 3
   },
   "file_extension": ".py",
   "mimetype": "text/x-python",
   "name": "python",
   "nbconvert_exporter": "python",
   "pygments_lexer": "ipython3",
   "version": "3.9.13"
  }
 },
 "nbformat": 4,
 "nbformat_minor": 5
}
