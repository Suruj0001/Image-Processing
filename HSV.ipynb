{
 "cells": [
  {
   "cell_type": "markdown",
   "id": "b4cec1da",
   "metadata": {},
   "source": [
    "# HUE Saturation Value"
   ]
  },
  {
   "cell_type": "code",
   "execution_count": 23,
   "id": "fa3a6b80",
   "metadata": {},
   "outputs": [],
   "source": [
    "import cv2\n",
    "import numpy as np"
   ]
  },
  {
   "cell_type": "code",
   "execution_count": 24,
   "id": "b115d0f2",
   "metadata": {},
   "outputs": [],
   "source": [
    "frames = cv2.imread(r\"C:\\Users\\suruj\\PYTHON-IMAGE-PROCESSING\\demo\\pht\\balls.jpg\")"
   ]
  },
  {
   "cell_type": "code",
   "execution_count": 25,
   "id": "d3cb0e78",
   "metadata": {},
   "outputs": [],
   "source": [
    "while True:\n",
    "    hsv = cv2.cvtColor(frames,cv2.COLOR_BGR2HSV)\n",
    "    u_v = np.array([130,235,225]) #FOR BLUE bgr\n",
    "    l_v = np.array([110,50,50])  #lower value\n",
    "    #creating Mask\n",
    "    mask = cv2.inRange(hsv, l_v, u_v)\n",
    "    \n",
    "    #filter mask with image\n",
    "    res = cv2.bitwise_and(frames, frames, mask=mask)\n",
    "    \n",
    "    cv2.imshow(\"frames\",frames)\n",
    "    cv2.imshow(\"mask\", mask)\n",
    "    cv2.imshow(\"res\", res)\n",
    "    \n",
    "    key = cv2.waitKey(1)\n",
    "    if key == 27:\n",
    "        break\n",
    "        \n",
    "cv2.destroyAllWindows()"
   ]
  },
  {
   "cell_type": "code",
   "execution_count": 9,
   "id": "25abf4f8",
   "metadata": {},
   "outputs": [],
   "source": [
    "# cv2.imshow(\"frames\",frames)\n",
    "# cv2.waitKey(0)\n",
    "# cv2.destroyAllWindows()"
   ]
  },
  {
   "cell_type": "code",
   "execution_count": null,
   "id": "b912131e",
   "metadata": {},
   "outputs": [],
   "source": [
    "set the upper value --u_v\n",
    "set the lower value ---l_v"
   ]
  }
 ],
 "metadata": {
  "kernelspec": {
   "display_name": "Python 3 (ipykernel)",
   "language": "python",
   "name": "python3"
  },
  "language_info": {
   "codemirror_mode": {
    "name": "ipython",
    "version": 3
   },
   "file_extension": ".py",
   "mimetype": "text/x-python",
   "name": "python",
   "nbconvert_exporter": "python",
   "pygments_lexer": "ipython3",
   "version": "3.9.13"
  }
 },
 "nbformat": 4,
 "nbformat_minor": 5
}
