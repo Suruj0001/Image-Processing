{
 "cells": [
  {
   "cell_type": "code",
   "execution_count": 8,
   "id": "a35dcaca",
   "metadata": {},
   "outputs": [],
   "source": [
    "import cv2\n",
    "import numpy as np"
   ]
  },
  {
   "cell_type": "code",
   "execution_count": 9,
   "id": "b0a92396",
   "metadata": {},
   "outputs": [],
   "source": [
    "def draw(event,x,y,flags,param):         #Flag variable is used as a signal in programming to let the program know that a certain condition has met. \n",
    "    if event == cv2.EVENT_LBUTTONDBLCLK:    \n",
    "        cv2.circle(img,(x,y),100,(125,0,255),5)\n",
    "    if event == cv2.EVENT_RBUTTONDBLCLK:\n",
    "        cv2.rectangle(img,(x,y),(x+100,y+75),(125,125,255),2)       \n",
    "        \n",
    "cv2.namedWindow(winname = \"res\")\n",
    "\n",
    "img = np.zeros((512,512,3) , np.uint8)\n",
    "\n",
    "cv2.setMouseCallback(\"res\",draw)\n",
    "\n",
    "\n",
    "while True:\n",
    "    cv2.imshow(\"res\",img)\n",
    "    if cv2.waitKey(1) == ord('q'):\n",
    "        break\n",
    "        \n",
    "        \n",
    "cv2.destroyAllWindows()"
   ]
  },
  {
   "cell_type": "code",
   "execution_count": null,
   "id": "224e0e31",
   "metadata": {},
   "outputs": [],
   "source": [
    "---- annotations using moustetracker-----  # annotations "
   ]
  }
 ],
 "metadata": {
  "kernelspec": {
   "display_name": "Python 3 (ipykernel)",
   "language": "python",
   "name": "python3"
  },
  "language_info": {
   "codemirror_mode": {
    "name": "ipython",
    "version": 3
   },
   "file_extension": ".py",
   "mimetype": "text/x-python",
   "name": "python",
   "nbconvert_exporter": "python",
   "pygments_lexer": "ipython3",
   "version": "3.9.13"
  }
 },
 "nbformat": 4,
 "nbformat_minor": 5
}
