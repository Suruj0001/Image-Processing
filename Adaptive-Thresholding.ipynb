{
 "cells": [
  {
   "cell_type": "code",
   "execution_count": 18,
   "id": "fc4b3af7",
   "metadata": {},
   "outputs": [],
   "source": [
    "import cv2\n",
    "import numpy as np"
   ]
  },
  {
   "cell_type": "code",
   "execution_count": 11,
   "id": "ae04bb40",
   "metadata": {},
   "outputs": [],
   "source": [
    "#Adaptive Method - It decides how threholding value is calculated\n",
    "#cv2.ADAPTIVE_THRESH_MEAN_C\n",
    "#cv2.ADAPTIVE_THRESH_GAUSSIAN_C : \n",
    "\n",
    "#threshold (img,pixel_thresh,_max_thresh_pixel,method,style,no._of_pixel\n",
    "#,contact_,mean)"
   ]
  },
  {
   "cell_type": "code",
   "execution_count": 22,
   "id": "ebee697b",
   "metadata": {},
   "outputs": [],
   "source": [
    "img = cv2.imread(r\"C:\\Users\\suruj\\PYTHON-IMAGE-PROCESSING\\demo\\pht\\table.png\",0)\n",
    "img = cv2.resize(img,(400,400))\n",
    "_, th1 = cv2.threshold(img, 127, 255, cv2.THRESH_BINARY) #simple\n",
    "\n",
    "th2 = cv2.adaptiveThreshold(img , 255, cv2.ADAPTIVE_THRESH_MEAN_C, cv2.THRESH_BINARY,11,2)\n",
    "\n",
    "th3 = cv2.adaptiveThreshold(img , 255, cv2.ADAPTIVE_THRESH_GAUSSIAN_C, cv2.THRESH_BINARY,11,2)"
   ]
  },
  {
   "cell_type": "code",
   "execution_count": 20,
   "id": "c20b608a",
   "metadata": {},
   "outputs": [],
   "source": [
    "cv2.imshow(\"Image\", img)\n",
    "cv2.imshow(\"THRESH_BINARY\", th1)\n",
    "cv2.imshow(\"adaptive l==\", th2)\n",
    "cv2.imshow(\"adaptive 2==\", th3)"
   ]
  },
  {
   "cell_type": "code",
   "execution_count": 21,
   "id": "52c2bfa7",
   "metadata": {},
   "outputs": [],
   "source": [
    "cv2.waitKey(0)\n",
    "cv2.destroyAllWindows()"
   ]
  },
  {
   "cell_type": "code",
   "execution_count": null,
   "id": "4f76755a",
   "metadata": {},
   "outputs": [],
   "source": []
  }
 ],
 "metadata": {
  "kernelspec": {
   "display_name": "Python 3 (ipykernel)",
   "language": "python",
   "name": "python3"
  },
  "language_info": {
   "codemirror_mode": {
    "name": "ipython",
    "version": 3
   },
   "file_extension": ".py",
   "mimetype": "text/x-python",
   "name": "python",
   "nbconvert_exporter": "python",
   "pygments_lexer": "ipython3",
   "version": "3.9.13"
  }
 },
 "nbformat": 4,
 "nbformat_minor": 5
}
