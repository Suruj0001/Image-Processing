{
 "cells": [
  {
   "cell_type": "code",
   "execution_count": 6,
   "id": "2bffe3e8",
   "metadata": {},
   "outputs": [],
   "source": [
    "#Image Operations with pixels and coordinates"
   ]
  },
  {
   "cell_type": "code",
   "execution_count": 10,
   "id": "25bc68db",
   "metadata": {},
   "outputs": [],
   "source": [
    "import cv2\n",
    "import numpy as np"
   ]
  },
  {
   "cell_type": "code",
   "execution_count": 11,
   "id": "248c6c2a",
   "metadata": {},
   "outputs": [
    {
     "name": "stdout",
     "output_type": "stream",
     "text": [
      "(450, 250, 3)\n",
      "337500\n",
      "uint8\n",
      "<class 'numpy.ndarray'>\n"
     ]
    }
   ],
   "source": [
    "#Read an image -- \n",
    "\n",
    "img = cv2.imread(r\"C:\\Users\\suruj\\PYTHON-IMAGE-PROCESSING\\demo\\pht\\suruj.jpg\")\n",
    "img = cv2.resize(img , (250,450))\n",
    "print(img.shape) #returns the tuple of number rows\n",
    "print(img.size) #returns the total number of color channels i.e pixels\n",
    "print(img.dtype) #returns image dtype\n",
    "print(type(img)) #returns type eg <class 'numpy.ndaray>'\n",
    "\n",
    "\n",
    "#Now try to split an image\n",
    "#print(cv2.split(img))\n",
    "b,g,r = cv2.split(img)\n",
    "\n",
    "\n",
    "while True:\n",
    "    origin = cv2.imshow(\"Original\" , img)\n",
    "    blue = cv2.imshow(\"blue\" , b)\n",
    "    green = cv2.imshow(\"green\" , g)\n",
    "    blue = cv2.imshow(\"red\" , r)\n",
    "    #Now we can mix the channels of an image using merge function \n",
    "    mr1 = cv2.merge((r,g,b))\n",
    "    rgb = cv2.imshow(\"rgb\" , mr1)\n",
    "    k = cv2.waitKey(0)\n",
    "    if k == ord(\"q\"): \n",
    "        break;\n",
    "\n",
    "\n",
    "cv2.destroyAllWindows()"
   ]
  },
  {
   "cell_type": "code",
   "execution_count": 16,
   "id": "3713d724",
   "metadata": {},
   "outputs": [
    {
     "name": "stdout",
     "output_type": "stream",
     "text": [
      "[0 2 4]\n"
     ]
    }
   ],
   "source": [
    "#working on pixels color values\n",
    "\n",
    "lion = cv2.imread(r\"C:\\Users\\suruj\\PYTHON-IMAGE-PROCESSING\\demo\\pht\\lion.jpg\")\n",
    "lion = cv2.resize(lion , (500,500))\n",
    "\n",
    "px = lion[200,200] #store coordinates in px variable\n",
    "print(px) #output [0,2,4] means at 200,200 coordinates pixels values are (b,g,r) == (0,2,4)\n",
    "\n",
    "\n",
    "cv2.imshow(\"neon\" , lion)\n",
    "cv2.waitKey(0)\n",
    "cv2.destroyAllWindows()"
   ]
  }
 ],
 "metadata": {
  "kernelspec": {
   "display_name": "Python 3 (ipykernel)",
   "language": "python",
   "name": "python3"
  },
  "language_info": {
   "codemirror_mode": {
    "name": "ipython",
    "version": 3
   },
   "file_extension": ".py",
   "mimetype": "text/x-python",
   "name": "python",
   "nbconvert_exporter": "python",
   "pygments_lexer": "ipython3",
   "version": "3.9.13"
  }
 },
 "nbformat": 4,
 "nbformat_minor": 5
}
