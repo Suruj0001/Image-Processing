{
 "cells": [
  {
   "cell_type": "markdown",
   "id": "2c7a6b58",
   "metadata": {},
   "source": [
    "Harris-corner-concept"
   ]
  },
  {
   "cell_type": "code",
   "execution_count": 52,
   "id": "071e211a",
   "metadata": {},
   "outputs": [],
   "source": [
    "import numpy as np\n",
    "import cv2 as cv"
   ]
  },
  {
   "cell_type": "code",
   "execution_count": 53,
   "id": "886d3108",
   "metadata": {},
   "outputs": [],
   "source": [
    "img = cv.imread(r\"C:\\Users\\suruj\\PYTHON-IMAGE-PROCESSING\\demo\\pht\\shape.png\")\n",
    "img = cv.resize(img,(1200,700))\n",
    "cv.imshow('img',img)"
   ]
  },
  {
   "cell_type": "code",
   "execution_count": 54,
   "id": "2a19f095",
   "metadata": {},
   "outputs": [
    {
     "name": "stdout",
     "output_type": "stream",
     "text": [
      "[[ 0.  0.  0. ...  0.  0.  0.]\n",
      " [ 0.  0.  0. ...  0.  0.  0.]\n",
      " [ 0.  0.  0. ...  0.  0.  0.]\n",
      " ...\n",
      " [22. 22. 22. ... 62. 62. 63.]\n",
      " [21. 21. 21. ... 62. 62. 62.]\n",
      " [22. 22. 22. ... 62. 62. 63.]]\n"
     ]
    }
   ],
   "source": [
    "#gray conversion \n",
    "gray = cv.cvtColor(img,cv.COLOR_BGR2GRAY)\n",
    "gray = np.float32(gray) # demand of harris concept that the float should be of 32 size\n",
    "print(gray)"
   ]
  },
  {
   "cell_type": "code",
   "execution_count": 55,
   "id": "1e508507",
   "metadata": {},
   "outputs": [],
   "source": [
    "#detect corner\n",
    "res = cv.cornerHarris(gray, 2 , 3 , 0.04) # changing parameter (gray , _ , 3, 0.004)\n",
    "#print(res)\n",
    "\n",
    "res = cv.dilate(res, None)\n",
    "img[res > 0.01 * res.max()] = [0, 0 , 255] #marked color"
   ]
  },
  {
   "cell_type": "code",
   "execution_count": 56,
   "id": "29e3ef66",
   "metadata": {},
   "outputs": [],
   "source": [
    "cv.imshow('dst', img)\n",
    "cv.waitKey(0)\n",
    "cv.destroyAllWindows()"
   ]
  },
  {
   "cell_type": "code",
   "execution_count": null,
   "id": "28638ef1",
   "metadata": {},
   "outputs": [],
   "source": []
  }
 ],
 "metadata": {
  "kernelspec": {
   "display_name": "Python 3 (ipykernel)",
   "language": "python",
   "name": "python3"
  },
  "language_info": {
   "codemirror_mode": {
    "name": "ipython",
    "version": 3
   },
   "file_extension": ".py",
   "mimetype": "text/x-python",
   "name": "python",
   "nbconvert_exporter": "python",
   "pygments_lexer": "ipython3",
   "version": "3.9.13"
  }
 },
 "nbformat": 4,
 "nbformat_minor": 5
}
