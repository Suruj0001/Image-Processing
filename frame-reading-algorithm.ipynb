{
 "cells": [
  {
   "cell_type": "code",
   "execution_count": 29,
   "id": "f0e6d6cd",
   "metadata": {},
   "outputs": [],
   "source": [
    "import cv2"
   ]
  },
  {
   "cell_type": "code",
   "execution_count": 30,
   "id": "8985bcb6",
   "metadata": {},
   "outputs": [],
   "source": [
    "vidcap = cv2.VideoCapture(r\"C:\\Users\\suruj\\PYTHON-IMAGE-PROCESSING\\video-processing-videoCapture\\test.mp4\")\n",
    "ret,image = vidcap.read() #read the video\n",
    "\n",
    "count = 0\n",
    "while True:\n",
    "    if ret == True:\n",
    "        cv2.imwrite(r\"C:\\Users\\suruj\\PYTHON-IMAGE-PROCESSING\\video-processing-videoCapture\\frames\\imgN%d.jpg\"%count,image)\n",
    "        vidcap.set(cv2.CAP_PROP_POS_MSEC,(count**100))\n",
    "        ret,image = vidcap.read()\n",
    "        cv2.imshow(\"res\",image)\n",
    "\n",
    "        count +=1\n",
    "        if cv2.waitKey(1) == ord(\"q\"):\n",
    "            break\n",
    "            cv2.destroyAllWindows()\n",
    "            \n",
    "vidcap.release()\n",
    "cv2.destroyAllWindows()\n"
   ]
  },
  {
   "cell_type": "code",
   "execution_count": null,
   "id": "2a74cb30",
   "metadata": {},
   "outputs": [],
   "source": [
    "---- perfectly working----  # if the frames cant read much put print(count) in between the algorithm"
   ]
  }
 ],
 "metadata": {
  "kernelspec": {
   "display_name": "Python 3 (ipykernel)",
   "language": "python",
   "name": "python3"
  },
  "language_info": {
   "codemirror_mode": {
    "name": "ipython",
    "version": 3
   },
   "file_extension": ".py",
   "mimetype": "text/x-python",
   "name": "python",
   "nbconvert_exporter": "python",
   "pygments_lexer": "ipython3",
   "version": "3.9.13"
  }
 },
 "nbformat": 4,
 "nbformat_minor": 5
}
