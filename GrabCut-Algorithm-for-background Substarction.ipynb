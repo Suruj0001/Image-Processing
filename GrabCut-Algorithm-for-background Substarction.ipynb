{
 "cells": [
  {
   "cell_type": "markdown",
   "id": "c28d7ab7",
   "metadata": {},
   "source": [
    "# Grabcut Algorithm with the help of this algorithm we easily cut off easily\n",
    "#cutoff any foreground object from image or video\n",
    "\n",
    "It works like how a rectangle portion mark on the image\n",
    "and area outwise the rectangle is treat as a extra port so this algo \n",
    "removes it completely . Gaussian mixture model help to acheved the target"
   ]
  },
  {
   "cell_type": "code",
   "execution_count": 33,
   "id": "ba4dc895",
   "metadata": {},
   "outputs": [],
   "source": [
    "import numpy as np\n",
    "import cv2"
   ]
  },
  {
   "cell_type": "code",
   "execution_count": 34,
   "id": "641ee591",
   "metadata": {},
   "outputs": [],
   "source": [
    "img = cv2.imread(r\"C:\\Users\\suruj\\PYTHON-IMAGE-PROCESSING\\demo\\pht\\suruj.jpg\")\n",
    "img = cv2.resize(img,(600,800))\n",
    "mask = np.zeros(img.shape[:2],np.uint8)  #generating-mask"
   ]
  },
  {
   "cell_type": "code",
   "execution_count": 35,
   "id": "66d0a1cf",
   "metadata": {},
   "outputs": [],
   "source": [
    "bgdModel = np.zeros((1,65),np.float64)*255\n",
    "fgdModel= np.zeros((1,65),np.float64)*255"
   ]
  },
  {
   "cell_type": "code",
   "execution_count": 36,
   "id": "f2b95c62",
   "metadata": {},
   "outputs": [
    {
     "data": {
      "text/plain": [
       "(array([[0, 0, 0, ..., 0, 0, 0],\n",
       "        [0, 0, 0, ..., 0, 0, 0],\n",
       "        [0, 0, 0, ..., 0, 0, 0],\n",
       "        ...,\n",
       "        [0, 0, 0, ..., 0, 0, 0],\n",
       "        [0, 0, 0, ..., 0, 0, 0],\n",
       "        [0, 0, 0, ..., 0, 0, 0]], dtype=uint8),\n",
       " array([[2.77970649e-01, 1.81287676e-01, 2.24121824e-01, 1.84481616e-01,\n",
       "         1.32138236e-01, 1.68114221e+02, 1.69995299e+02, 1.72341618e+02,\n",
       "         1.01165022e+02, 1.00748768e+02, 1.12180080e+02, 1.38477180e+02,\n",
       "         1.43403912e+02, 1.49000028e+02, 2.01720801e+02, 2.04641421e+02,\n",
       "         2.05895266e+02, 6.03591287e+01, 5.75903315e+01, 7.87887647e+01,\n",
       "         7.08092982e+01, 6.55865602e+01, 6.22171595e+01, 6.55865602e+01,\n",
       "         7.50490611e+01, 8.63017477e+01, 6.22171595e+01, 8.63017477e+01,\n",
       "         1.17211120e+02, 4.58474343e+02, 3.11492443e+02, 2.91254923e+02,\n",
       "         3.11492443e+02, 2.97393525e+02, 3.35492240e+02, 2.91254923e+02,\n",
       "         3.35492240e+02, 6.95600412e+02, 1.87666994e+02, 1.77348007e+02,\n",
       "         1.71860928e+02, 1.77348007e+02, 1.82548063e+02, 1.93786999e+02,\n",
       "         1.71860928e+02, 1.93786999e+02, 2.39761311e+02, 6.58617821e+02,\n",
       "         5.99214189e+02, 5.72405467e+02, 5.99214189e+02, 5.55691345e+02,\n",
       "         5.34432019e+02, 5.72405467e+02, 5.34432019e+02, 5.34461958e+02,\n",
       "         1.84726764e+02, 1.79273975e+02, 1.93942776e+02, 1.79273975e+02,\n",
       "         2.06639614e+02, 1.49748970e+02, 1.93942776e+02, 1.49748970e+02,\n",
       "         4.58997608e+02]]),\n",
       " array([[1.20055164e-01, 3.38651548e-01, 6.86117070e-02, 2.71008275e-01,\n",
       "         2.01673307e-01, 1.43909021e+02, 1.52738755e+02, 1.80487977e+02,\n",
       "         6.82546741e+01, 6.90039456e+01, 7.34092777e+01, 2.15053957e+02,\n",
       "         1.94492049e+02, 1.77189298e+02, 1.68955739e+02, 1.40775054e+02,\n",
       "         1.17183015e+02, 1.01252804e+02, 9.52652950e+01, 1.01282345e+02,\n",
       "         4.02460299e+02, 3.29057715e+02, 1.76187041e+02, 3.29057715e+02,\n",
       "         3.37747088e+02, 3.09597334e+02, 1.76187041e+02, 3.09597334e+02,\n",
       "         5.45361817e+02, 1.11883251e+02, 1.21658241e+02, 1.31226151e+02,\n",
       "         1.21658241e+02, 1.43156307e+02, 1.65459372e+02, 1.31226151e+02,\n",
       "         1.65459372e+02, 2.29294167e+02, 2.38412490e+02, 2.11496230e+02,\n",
       "         1.42120481e+02, 2.11496230e+02, 2.83222601e+02, 3.37653238e+02,\n",
       "         1.42120481e+02, 3.37653238e+02, 5.92385910e+02, 5.72267248e+02,\n",
       "         5.34818970e+02, 4.77233137e+02, 5.34818970e+02, 5.02448461e+02,\n",
       "         4.50091740e+02, 4.77233137e+02, 4.50091740e+02, 4.10884791e+02,\n",
       "         4.32941774e+02, 3.78571841e+02, 1.93861364e+02, 3.78571841e+02,\n",
       "         4.72788476e+02, 4.95717394e+02, 1.93861364e+02, 4.95717394e+02,\n",
       "         9.14948455e+02]]))"
      ]
     },
     "execution_count": 36,
     "metadata": {},
     "output_type": "execute_result"
    }
   ],
   "source": [
    "#parameter(img,mask,rect,bgmodel,fgmodel,iter,method)\n",
    "#rect(x1,y1,x2,y2)\n",
    "rect = (70,145,405,755)#foreground objects\n",
    "cv2.grabCut(img,mask,rect,bgdModel,fgdModel,5,cv2.GC_INIT_WITH_RECT)"
   ]
  },
  {
   "cell_type": "code",
   "execution_count": 37,
   "id": "07e24108",
   "metadata": {},
   "outputs": [],
   "source": [
    "mask2 = np.where((mask==2)| (mask==0),0,1).astype('uint8')\n",
    "img = img*mask2[:,:,np.newaxis]"
   ]
  },
  {
   "cell_type": "code",
   "execution_count": 38,
   "id": "000a47c1",
   "metadata": {},
   "outputs": [],
   "source": [
    "cv2.imshow(\"res==\",img)\n",
    "cv2.waitKey(0)\n",
    "cv2.destroyAllWindows()"
   ]
  },
  {
   "cell_type": "code",
   "execution_count": null,
   "id": "ba96a539",
   "metadata": {},
   "outputs": [],
   "source": []
  }
 ],
 "metadata": {
  "kernelspec": {
   "display_name": "Python 3 (ipykernel)",
   "language": "python",
   "name": "python3"
  },
  "language_info": {
   "codemirror_mode": {
    "name": "ipython",
    "version": 3
   },
   "file_extension": ".py",
   "mimetype": "text/x-python",
   "name": "python",
   "nbconvert_exporter": "python",
   "pygments_lexer": "ipython3",
   "version": "3.9.13"
  }
 },
 "nbformat": 4,
 "nbformat_minor": 5
}
