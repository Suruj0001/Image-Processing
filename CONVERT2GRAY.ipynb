{
 "cells": [
  {
   "cell_type": "code",
   "execution_count": 8,
   "id": "5472f169",
   "metadata": {
    "collapsed": true
   },
   "outputs": [],
   "source": [
    "import cv2"
   ]
  },
  {
   "cell_type": "code",
   "execution_count": 9,
   "id": "a947cd72",
   "metadata": {},
   "outputs": [
    {
     "name": "stdout",
     "output_type": "stream",
     "text": [
      "Enter the path of the image : C:\\Users\\suruj\\PYTHON-IMAGE-PROCESSING\\PROJECT 1.  Converting an Image to gray scale\\road.jpg\n"
     ]
    }
   ],
   "source": [
    "path = input(\"Enter the path of the image : \")"
   ]
  },
  {
   "cell_type": "code",
   "execution_count": 10,
   "id": "63798b1b",
   "metadata": {},
   "outputs": [
    {
     "name": "stdout",
     "output_type": "stream",
     "text": [
      "You enter the path :  C:\\Users\\suruj\\PYTHON-IMAGE-PROCESSING\\PROJECT 1.  Converting an Image to gray scale\\road.jpg\n"
     ]
    }
   ],
   "source": [
    "print(\"You enter the path : \" , path)"
   ]
  },
  {
   "cell_type": "code",
   "execution_count": 11,
   "id": "c0017329",
   "metadata": {},
   "outputs": [],
   "source": [
    "img3 = cv2.imread(path , 0)"
   ]
  },
  {
   "cell_type": "code",
   "execution_count": 12,
   "id": "8bbf02c9",
   "metadata": {},
   "outputs": [],
   "source": [
    "img4 = cv2.resize(img3 , (1000 , 900))\n"
   ]
  },
  {
   "cell_type": "code",
   "execution_count": 13,
   "id": "9283a607",
   "metadata": {},
   "outputs": [],
   "source": [
    "cv2.imshow(\"gray-img\" , img4)"
   ]
  },
  {
   "cell_type": "code",
   "execution_count": 14,
   "id": "f4d5f028",
   "metadata": {},
   "outputs": [],
   "source": [
    "k = cv2.waitKey(0)"
   ]
  },
  {
   "cell_type": "code",
   "execution_count": 15,
   "id": "9ed2eec3",
   "metadata": {},
   "outputs": [],
   "source": [
    "if k == ord(\"s\"):\n",
    "    cv2.imwrite(r\"C:\\Users\\suruj\\PYTHON-IMAGE-PROCESSING\\PROJECT 1.  Converting an Image to gray scale\\gray-img\" , img4)\n",
    "else:\n",
    "    cv2.destroyAllWindows()"
   ]
  },
  {
   "cell_type": "code",
   "execution_count": null,
   "id": "1dd35591",
   "metadata": {},
   "outputs": [],
   "source": []
  }
 ],
 "metadata": {
  "kernelspec": {
   "display_name": "Python 3 (ipykernel)",
   "language": "python",
   "name": "python3"
  },
  "language_info": {
   "codemirror_mode": {
    "name": "ipython",
    "version": 3
   },
   "file_extension": ".py",
   "mimetype": "text/x-python",
   "name": "python",
   "nbconvert_exporter": "python",
   "pygments_lexer": "ipython3",
   "version": "3.9.13"
  }
 },
 "nbformat": 4,
 "nbformat_minor": 5
}
