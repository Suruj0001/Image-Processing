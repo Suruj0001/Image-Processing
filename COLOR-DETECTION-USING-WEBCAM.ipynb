{
 "cells": [
  {
   "cell_type": "code",
   "execution_count": 1,
   "id": "c313360a",
   "metadata": {},
   "outputs": [],
   "source": [
    "import cv2\n",
    "import numpy as np"
   ]
  },
  {
   "cell_type": "code",
   "execution_count": 2,
   "id": "73343dc3",
   "metadata": {},
   "outputs": [],
   "source": [
    "cap = cv2.VideoCapture(0,cv2.CAP_DSHOW)"
   ]
  },
  {
   "cell_type": "code",
   "execution_count": 1,
   "id": "06bc9c83",
   "metadata": {},
   "outputs": [],
   "source": [
    "# def nothing(x):\n",
    "#     pass\n",
    "\n",
    "# cv2.namedWindow(\"Color Adjustments\")\n",
    "\n",
    "\n",
    "# def nothing(x):\n",
    "#     pass\n",
    "\n",
    "# cv2.namedWindow(\"Color Adjustments\")\n",
    "# cv2.createTrackbar(\"Lower_H\", \"Color Adjustments\", 0, 255, nothing)\n",
    "# cv2.createTrackbar(\"Lower_S\", \"Color Adjustments\", 0, 255, nothing)\n",
    "# cv2.createTrackbar(\"Lower_V\", \"Color Adjustments\", 0, 255, nothing)\n",
    "\n",
    "# cv2.createTrackbar(\"Upper_H\", \"Color Adjustments\", 255, 255, nothing)\n",
    "# cv2.createTrackbar(\"Upper_S\", \"Color Adjustments\", 255, 255, nothing)\n",
    "# cv2.createTrackbar(\"Upper_V\", \"Color Adjustments\", 255 ,255, nothing)\n",
    "\n",
    "\n",
    "# while True:\n",
    "    \n",
    "#     _,frame = cap.read()\n",
    "#     frame = cv2.resize(frame,(400,400))\n",
    "    \n",
    "    \n",
    "#     hsv = cv2.cvtColor(frame,cv2.COLOR_BGR2HSV)\n",
    "    \n",
    "#     l_h = cv2.getTrackbarPos(\"Lower_H\", \"Color Adjustments\")\n",
    "#     l_s = cv2.getTrackbarPos(\"Lower_S\", \"Color Adjustments\")\n",
    "#     l_v = cv2.getTrackbarPos(\"Lower_V\", \"Color Adjustments\")\n",
    "    \n",
    "#     u_h = cv2.getTrackbarPos(\"Upper_H\", \"Color Adjustments\")\n",
    "#     u_s = cv2.getTrackbarPos(\"Upper_S\", \"Color Adjustments\")\n",
    "#     u_v = cv2.getTrackbarPos(\"Upper_V\", \"Color Adjustments\")\n",
    "    \n",
    "#     lower_bound = np.array([l_h,l_s,l_v])\n",
    "#     upper_bound = np.array([u_h,u_s,u_v])\n",
    "    \n",
    "#     #Creating the mask\n",
    "#     mask = cv2.inRange(hsv,lower_bound,upper_bound)\n",
    "    \n",
    "    \n",
    "#     #filter mask with image\n",
    "#     res = cv2.bitwise_and(frame,frame,mask=mask)\n",
    "    \n",
    "#     cv2.imshow(\"originalframe\", frame)\n",
    "#     cv2.imshow(\"masking\", mask)\n",
    "#     cv2.imshow(\"result\", res)\n",
    "    \n",
    "#     key = cv2.waitKey(25) &0xFF\n",
    "#     if key == 27:\n",
    "#         break\n",
    "# cap.release()        \n",
    "# cv2.destroyALLWindows()"
   ]
  },
  {
   "cell_type": "code",
   "execution_count": null,
   "id": "38b9b9c2",
   "metadata": {},
   "outputs": [],
   "source": [
    "--- All Clear -- just during the closing time -- check out the off button"
   ]
  },
  {
   "cell_type": "code",
   "execution_count": null,
   "id": "ace14c1b",
   "metadata": {},
   "outputs": [],
   "source": []
  },
  {
   "cell_type": "code",
   "execution_count": null,
   "id": "b8237482",
   "metadata": {},
   "outputs": [],
   "source": []
  }
 ],
 "metadata": {
  "kernelspec": {
   "display_name": "Python 3 (ipykernel)",
   "language": "python",
   "name": "python3"
  },
  "language_info": {
   "codemirror_mode": {
    "name": "ipython",
    "version": 3
   },
   "file_extension": ".py",
   "mimetype": "text/x-python",
   "name": "python",
   "nbconvert_exporter": "python",
   "pygments_lexer": "ipython3",
   "version": "3.9.13"
  }
 },
 "nbformat": 4,
 "nbformat_minor": 5
}
