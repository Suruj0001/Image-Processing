{
 "cells": [
  {
   "cell_type": "code",
   "execution_count": 2,
   "id": "dcb13862",
   "metadata": {},
   "outputs": [],
   "source": [
    "import cv2\n",
    "import numpy as np"
   ]
  },
  {
   "cell_type": "code",
   "execution_count": 3,
   "id": "7f5082ee",
   "metadata": {},
   "outputs": [],
   "source": [
    "img1 = np.zeros((250,500,3), np.uint8)\n",
    "img1 = cv2.rectangle(img1, (150,100), (200,250), (255,255,255),-1)"
   ]
  },
  {
   "cell_type": "code",
   "execution_count": 4,
   "id": "31d16094",
   "metadata": {},
   "outputs": [],
   "source": [
    "img2 = np.zeros((250, 500, 3), np.uint8)\n",
    "img2 = cv2.rectangle(img2, (10,10), (170,190), (255,255,255),-1)"
   ]
  },
  {
   "cell_type": "code",
   "execution_count": 5,
   "id": "0167b232",
   "metadata": {},
   "outputs": [],
   "source": [
    "cv2.imshow(\"img1\", img1)\n",
    "cv2.imshow(\"img2\",img2)"
   ]
  },
  {
   "cell_type": "code",
   "execution_count": 12,
   "id": "a3e89f81",
   "metadata": {},
   "outputs": [],
   "source": [
    "#bitAnd = cv2.bitwise_and(img2,img1)\n",
    "#bitOr = cv2.bitwise_or(img2,img1)\n",
    "#bitNot1 = cv2.bitwise_not(img1)\n",
    "#bitNot2 = cv2.bitwise_not(img2)\n",
    "#bitXor = cv2.bitwise_xor(img1,img2)"
   ]
  },
  {
   "cell_type": "code",
   "execution_count": 13,
   "id": "e60e8302",
   "metadata": {},
   "outputs": [],
   "source": [
    "#cv2.imshow('bitAnd',bitAnd)\n",
    "# cv2.imshow('bitOr',bitOr)\n",
    "# cv2.imshow('bitNot1',bitNot1)\n",
    "# cv2.imshow('bitNot2',bitNot2)\n",
    "#cv2.imshow('bitXor',bitXor)"
   ]
  },
  {
   "cell_type": "code",
   "execution_count": 14,
   "id": "8b750c77",
   "metadata": {},
   "outputs": [],
   "source": [
    "#cv2.waitKey(0)\n",
    "#cv2.destroyAllWindows()"
   ]
  }
 ],
 "metadata": {
  "kernelspec": {
   "display_name": "Python 3 (ipykernel)",
   "language": "python",
   "name": "python3"
  },
  "language_info": {
   "codemirror_mode": {
    "name": "ipython",
    "version": 3
   },
   "file_extension": ".py",
   "mimetype": "text/x-python",
   "name": "python",
   "nbconvert_exporter": "python",
   "pygments_lexer": "ipython3",
   "version": "3.9.13"
  }
 },
 "nbformat": 4,
 "nbformat_minor": 5
}
