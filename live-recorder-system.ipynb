{
 "cells": [
  {
   "cell_type": "code",
   "execution_count": 22,
   "id": "77aa1aa0",
   "metadata": {},
   "outputs": [],
   "source": [
    "import cv2\n",
    "import datetime"
   ]
  },
  {
   "cell_type": "code",
   "execution_count": 23,
   "id": "0b6e24ba",
   "metadata": {},
   "outputs": [],
   "source": [
    "fourcc = cv2.VideoWriter_fourcc(*\"XVID\")"
   ]
  },
  {
   "cell_type": "code",
   "execution_count": 24,
   "id": "dc740b1f",
   "metadata": {},
   "outputs": [],
   "source": [
    "output = cv2.VideoWriter(r\"C:\\Users\\suruj\\PYTHON-IMAGE-PROCESSING\\video-processing-videoCapture\\frames3\\test1.avi\" , fourcc , 20.0 , (1920 , 1080)) "
   ]
  },
  {
   "cell_type": "code",
   "execution_count": 34,
   "id": "8bfbbbaa",
   "metadata": {},
   "outputs": [
    {
     "name": "stdout",
     "output_type": "stream",
     "text": [
      "width=== 640.0\n",
      "Height=== 480.0\n"
     ]
    }
   ],
   "source": [
    "cap = cv2.VideoCapture(0)   # pass o for accesing the front camera\n",
    "print(\"width===\",cap.get(3)) #here 3 for width\n",
    "print(\"Height===\",cap.get(4)) #here 4 for height\n",
    "while(cap.isOpened()):\n",
    "    ret, frame = cap.read()\n",
    "    frame = cv2.resize(frame, (1920,1080)) \n",
    "    if ret == True:\n",
    "        font = cv2.FONT_HERSHEY_COMPLEX_SMALL\n",
    "        text = 'Height:' + str(cap.get(4))+ \" \" + 'Width:' + str(cap.get(3))\n",
    "        date_data = \"Date: \"+str(datetime.datetime.now())\n",
    "        frame = cv2.putText(frame , date_data , (40,50) , font , 3, (0, 155, 255), 1 , cv2.LINE_AA)\n",
    "        cv2.imshow('LIVE-RECORDING' , frame)\n",
    "        output.write(frame)\n",
    "        if cv2.waitKey(30) == ord('q'):\n",
    "            break\n",
    "    else:\n",
    "        break\n",
    "        "
   ]
  },
  {
   "cell_type": "code",
   "execution_count": 35,
   "id": "fdbaec2b",
   "metadata": {},
   "outputs": [],
   "source": [
    "cap.release()\n",
    "output.release()\n",
    "cv2.destroyAllWindows()"
   ]
  },
  {
   "cell_type": "code",
   "execution_count": null,
   "id": "cd26a4fd",
   "metadata": {},
   "outputs": [],
   "source": [
    "vidcap = cv2.VideoCapture(r\"\")\n",
    "ret,image = vidcap.read() #read the video\n",
    "\n",
    "count = 0\n",
    "while True:\n",
    "    if ret == True:\n",
    "        cv2.imwrite(r\"----\\imgN%d.jpg\"%count,image)\n",
    "        vidcap.set(cv2.CAP_PROP_POS_MSEC,(count**100))\n",
    "        ret,image = vidcap.read()\n",
    "        cv2.imshow(\"frame\",image)\n",
    "\n",
    "        count +=1\n",
    "        if cv2.waitKey(1) == ord(\"q\"):\n",
    "            break\n",
    "            cv2.destroyAllWindows()\n",
    "            \n",
    "vidcap.release()\n",
    "cv2.destroyAllWindows()\n"
   ]
  },
  {
   "cell_type": "markdown",
   "id": "724d93e3",
   "metadata": {},
   "source": [
    "# Important Syntax imgN%d.jpg\"%count to cut the video into frames"
   ]
  }
 ],
 "metadata": {
  "kernelspec": {
   "display_name": "Python 3 (ipykernel)",
   "language": "python",
   "name": "python3"
  },
  "language_info": {
   "codemirror_mode": {
    "name": "ipython",
    "version": 3
   },
   "file_extension": ".py",
   "mimetype": "text/x-python",
   "name": "python",
   "nbconvert_exporter": "python",
   "pygments_lexer": "ipython3",
   "version": "3.9.13"
  }
 },
 "nbformat": 4,
 "nbformat_minor": 5
}
