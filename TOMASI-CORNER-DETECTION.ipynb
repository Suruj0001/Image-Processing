{
 "cells": [
  {
   "cell_type": "markdown",
   "id": "e3c94024",
   "metadata": {},
   "source": [
    "Big - Brother - Shi - TOMASI cORNEER-DETECTION"
   ]
  },
  {
   "cell_type": "code",
   "execution_count": 24,
   "id": "163e9306",
   "metadata": {},
   "outputs": [],
   "source": [
    "import numpy as np\n",
    "import cv2 as cv"
   ]
  },
  {
   "cell_type": "code",
   "execution_count": 25,
   "id": "1794ba46",
   "metadata": {},
   "outputs": [],
   "source": [
    "img = cv.imread(r\"C:\\Users\\suruj\\PYTHON-IMAGE-PROCESSING\\demo\\pht\\suruj.jpg\")\n",
    "img = cv.resize(img,(800,800))\n",
    "#image must be in gray\n",
    "gray = cv.cvtColor(img,cv2.COLOR_BGR2GRAY)"
   ]
  },
  {
   "cell_type": "code",
   "execution_count": 26,
   "id": "ae2afb1f",
   "metadata": {},
   "outputs": [],
   "source": [
    "#parameter (img,no.of corner,quality_level,min_distance between corner)\n",
    "corners = cv.goodFeaturesToTrack(gray,100,0.01,5)\n",
    "corners = np.int64(corners)"
   ]
  },
  {
   "cell_type": "code",
   "execution_count": 27,
   "id": "54e482d9",
   "metadata": {},
   "outputs": [],
   "source": [
    "for i in corners:\n",
    "    x,y = i.ravel()\n",
    "    cv.circle(img,(x,y),3,255,-1)\n",
    "    \n",
    "cv.imshow(\"res==\",img)\n",
    "cv.waitKey(0)\n",
    "cv.destroyAllWindows()"
   ]
  },
  {
   "cell_type": "code",
   "execution_count": 28,
   "id": "a8e04438",
   "metadata": {},
   "outputs": [
    {
     "data": {
      "text/plain": [
       "array([145, 751], dtype=int64)"
      ]
     },
     "execution_count": 28,
     "metadata": {},
     "output_type": "execute_result"
    }
   ],
   "source": [
    "i.ravel()  # it gives  us flatten array i.e in one-dimension"
   ]
  },
  {
   "cell_type": "code",
   "execution_count": null,
   "id": "c77c6dbf",
   "metadata": {},
   "outputs": [],
   "source": []
  }
 ],
 "metadata": {
  "kernelspec": {
   "display_name": "Python 3 (ipykernel)",
   "language": "python",
   "name": "python3"
  },
  "language_info": {
   "codemirror_mode": {
    "name": "ipython",
    "version": 3
   },
   "file_extension": ".py",
   "mimetype": "text/x-python",
   "name": "python",
   "nbconvert_exporter": "python",
   "pygments_lexer": "ipython3",
   "version": "3.9.13"
  }
 },
 "nbformat": 4,
 "nbformat_minor": 5
}
