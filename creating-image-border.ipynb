{
 "cells": [
  {
   "cell_type": "code",
   "execution_count": 26,
   "id": "5f1d0692",
   "metadata": {},
   "outputs": [],
   "source": [
    "import cv2\n",
    "import numpy as np"
   ]
  },
  {
   "cell_type": "code",
   "execution_count": 27,
   "id": "52b91ee5",
   "metadata": {},
   "outputs": [],
   "source": [
    "img1 = cv2.imread(r\"C:\\Users\\suruj\\PYTHON-IMAGE-PROCESSING\\PROJECT 1.  Converting an Image to gray scale\\road.jpg\")\n",
    "img1 = cv2.resize(img1, (1000,600))"
   ]
  },
  {
   "cell_type": "code",
   "execution_count": 28,
   "id": "6c94a643",
   "metadata": {},
   "outputs": [],
   "source": [
    "#creating image border\n",
    "brdr = cv2.copyMakeBorder(img1, 10,10,15,15,cv2.BORDER_CONSTANT, value = [255,0,0])"
   ]
  },
  {
   "cell_type": "code",
   "execution_count": 29,
   "id": "58496d6f",
   "metadata": {},
   "outputs": [],
   "source": [
    "cv2.imshow(\"res\" , brdr)\n",
    "cv2.waitKey(0)\n",
    "cv2.destroyAllWindows()"
   ]
  },
  {
   "cell_type": "code",
   "execution_count": 31,
   "id": "668074c4",
   "metadata": {},
   "outputs": [],
   "source": [
    "# --Creating Border (img,border_width(4-sides),border)----\n",
    "# top bottom right left"
   ]
  }
 ],
 "metadata": {
  "kernelspec": {
   "display_name": "Python 3 (ipykernel)",
   "language": "python",
   "name": "python3"
  },
  "language_info": {
   "codemirror_mode": {
    "name": "ipython",
    "version": 3
   },
   "file_extension": ".py",
   "mimetype": "text/x-python",
   "name": "python",
   "nbconvert_exporter": "python",
   "pygments_lexer": "ipython3",
   "version": "3.9.13"
  }
 },
 "nbformat": 4,
 "nbformat_minor": 5
}
