{
 "cells": [
  {
   "cell_type": "code",
   "execution_count": 1,
   "id": "97c50c6a",
   "metadata": {},
   "outputs": [],
   "source": [
    "import cv2"
   ]
  },
  {
   "cell_type": "code",
   "execution_count": 2,
   "id": "cc7dd6e0",
   "metadata": {},
   "outputs": [],
   "source": [
    "cap = cv2.VideoCapture(r\"C:\\Users\\suruj\\PYTHON-IMAGE-PROCESSING\\video-processing-videoCapture()\\traffic.mp4\")"
   ]
  },
  {
   "cell_type": "code",
   "execution_count": 3,
   "id": "34a1f6b9",
   "metadata": {},
   "outputs": [
    {
     "name": "stdout",
     "output_type": "stream",
     "text": [
      "cap < cv2.VideoCapture 00000262ABCD8F10>\n"
     ]
    }
   ],
   "source": [
    "print(\"cap\", cap)"
   ]
  },
  {
   "cell_type": "code",
   "execution_count": 4,
   "id": "01d86ad0",
   "metadata": {},
   "outputs": [],
   "source": [
    "while True:\n",
    "    ret , frame = cap.read()\n",
    "    frame = cv2.resize(frame , (900 , 700))\n",
    "    gray = cv2.cvtColor(frame , cv2.COLOR_BGR2GRAY)\n",
    "    cv2.imshow(\"gray\" , gray)\n",
    "    cv2.imshow(\"frame\" , frame)\n",
    "    k = cv2.waitKey(25) # more the value in the watkey slower the video will be \n",
    "    if k == ord(\"q\"):\n",
    "        break"
   ]
  },
  {
   "cell_type": "code",
   "execution_count": 5,
   "id": "e37553c1",
   "metadata": {},
   "outputs": [],
   "source": [
    "cap.release()"
   ]
  },
  {
   "cell_type": "code",
   "execution_count": 6,
   "id": "5e024baa",
   "metadata": {},
   "outputs": [],
   "source": [
    "cv2.destroyAllWindows()"
   ]
  },
  {
   "cell_type": "code",
   "execution_count": null,
   "id": "2df13f19",
   "metadata": {},
   "outputs": [],
   "source": []
  },
  {
   "cell_type": "code",
   "execution_count": null,
   "id": "774c679d",
   "metadata": {},
   "outputs": [],
   "source": []
  }
 ],
 "metadata": {
  "kernelspec": {
   "display_name": "Python 3 (ipykernel)",
   "language": "python",
   "name": "python3"
  },
  "language_info": {
   "codemirror_mode": {
    "name": "ipython",
    "version": 3
   },
   "file_extension": ".py",
   "mimetype": "text/x-python",
   "name": "python",
   "nbconvert_exporter": "python",
   "pygments_lexer": "ipython3",
   "version": "3.9.13"
  }
 },
 "nbformat": 4,
 "nbformat_minor": 5
}
