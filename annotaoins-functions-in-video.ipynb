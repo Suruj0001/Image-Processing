{
 "cells": [
  {
   "cell_type": "code",
   "execution_count": 36,
   "id": "aaa012b4",
   "metadata": {},
   "outputs": [],
   "source": [
    "import cv2\n",
    "import datetime"
   ]
  },
  {
   "cell_type": "code",
   "execution_count": 37,
   "id": "284e9a8c",
   "metadata": {},
   "outputs": [
    {
     "name": "stdout",
     "output_type": "stream",
     "text": [
      "width=== 640.0\n",
      "Height=== 480.0\n"
     ]
    }
   ],
   "source": [
    "cap = cv2.VideoCapture(0)   # pass o for accesing the front camera\n",
    "print(\"width===\",cap.get(3)) #here 3 for width\n",
    "print(\"Height===\",cap.get(4)) #here 4 for height\n",
    "while(cap.isOpened()):\n",
    "    ret, frame = cap.read()\n",
    "    #frame = cv2.resize(frame, (800,600)) -- you can resize if you want but everything is clear --working resolution tree clean\n",
    "    if ret == True:\n",
    "        font = cv2.FONT_HERSHEY_COMPLEX_SMALL\n",
    "        text = 'Height:' + str(cap.get(4))+ \" \" + 'Width:' + str(cap.get(3))\n",
    "        date_data = \"Date: \"+str(datetime.datetime.now())\n",
    "        frame = cv2.putText(frame , date_data , (10,20) , font , 1, (0, 155, 255), 1 , cv2.LINE_AA)\n",
    "        \n",
    "        cv2.imshow('frame' , frame)\n",
    "\n",
    "        if cv2.waitKey(30) == ord('q'):\n",
    "            break\n",
    "    else:\n",
    "        break\n",
    "        \n"
   ]
  },
  {
   "cell_type": "code",
   "execution_count": 38,
   "id": "4f1522ba",
   "metadata": {},
   "outputs": [],
   "source": [
    "cap.release()\n",
    "cv2.destroyAllWindows()"
   ]
  },
  {
   "cell_type": "code",
   "execution_count": null,
   "id": "271aa296",
   "metadata": {},
   "outputs": [],
   "source": [
    "# if you want video --     r\"C:\\Users\\suruj\\PYTHON-IMAGE-PROCESSING\\video-processing-videoCapture\\f22-re.mp4\" "
   ]
  }
 ],
 "metadata": {
  "kernelspec": {
   "display_name": "Python 3 (ipykernel)",
   "language": "python",
   "name": "python3"
  },
  "language_info": {
   "codemirror_mode": {
    "name": "ipython",
    "version": 3
   },
   "file_extension": ".py",
   "mimetype": "text/x-python",
   "name": "python",
   "nbconvert_exporter": "python",
   "pygments_lexer": "ipython3",
   "version": "3.9.13"
  }
 },
 "nbformat": 4,
 "nbformat_minor": 5
}
